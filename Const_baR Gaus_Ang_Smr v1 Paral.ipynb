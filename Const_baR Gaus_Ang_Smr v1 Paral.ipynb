{
 "cells": [
  {
   "cell_type": "markdown",
   "metadata": {},
   "source": [
    "### IA_GEOMETRY Functions"
   ]
  },
  {
   "cell_type": "code",
   "execution_count": 1,
   "metadata": {
    "jupyter": {
     "source_hidden": true
    }
   },
   "outputs": [
    {
     "name": "stdout",
     "output_type": "stream",
     "text": [
      "Overwriting ia_geometry_func.py\n"
     ]
    }
   ],
   "source": [
    "%%writefile ia_geometry_func.py\n",
    "def Cart_to_Sph(xyz): #input np array [[x,y,z]], output[[r,theta,phi]]\n",
    "    import numpy as np\n",
    "    ptsnew = np.zeros(xyz.shape)\n",
    "    xy = xyz[:,0]**2 + xyz[:,1]**2\n",
    "    ptsnew[:,0] = np.sqrt(xy + xyz[:,2]**2)\n",
    "    ptsnew[:,1] = np.arctan2(np.sqrt(xy), xyz[:,2]) # for elevation angle defined from Z-axis down\n",
    "    #ptsnew[:,4] = np.arctan2(xyz[:,2], np.sqrt(xy)) # for elevation angle defined from XY-plane up\n",
    "    ptsnew[:,2] = np.arctan2(xyz[:,1], xyz[:,0])\n",
    "    return ptsnew\n",
    "#pts = np.array([[1,1,1]])\n",
    "#print(Cart_to_Sph(pts))\n",
    "#[[r,theta,phi]] = Cart_to_Sph(np.array([[1,1,1]]))\n",
    "#print(r)#print(theta)#print(phi)\n",
    "\n",
    "def Cart_to_Polar(xy): #input np array [[x,y]], output[[r,phi]]\n",
    "    import numpy as np\n",
    "    ptsnew = np.zeros(xy.shape)\n",
    "#    ptsnew = np.zeros((1,2))\n",
    "    ptsnew[:,0] = np.sqrt(xy[:,0]**2+xy[:,1]**2)\n",
    "    ptsnew[:,1] = np.arctan2(xy[:,1], xy[:,0]) #for elevation angle defined from Z-axis down\n",
    "    return ptsnew\n",
    "\n",
    "def Sph_to_Cart(xyz): #input np array [[r,theta,phi]], output[[x,y,z]]\n",
    "    import numpy as np\n",
    "    ptsnew = np.zeros(xyz.shape)\n",
    "#    ptsnew = np.zeros((1,3))\n",
    "    ptsnew[:,0] = xyz[:,0]*np.sin(xyz[:,1])*np.cos(xyz[:,2])\n",
    "    ptsnew[:,1] = xyz[:,0]*np.sin(xyz[:,1])*np.sin(xyz[:,2])\n",
    "    ptsnew[:,2] = xyz[:,0]*np.cos(xyz[:,1])\n",
    "    return ptsnew\n",
    "#Cartesian_np(np.array([[1.73205081, 0.95531662, 0.78539816]]))\n",
    "#pts = np.array([[1,1,1]])\n",
    "#Cartesian_np(Cart_to_Sph(pts))\n",
    "\n",
    "def Polar_to_Cart(xy): #input np array [[r,phi]], output[[x,y]]\n",
    "    import numpy as np\n",
    "#    ptsnew = np.zeros((1,2))\n",
    "    ptsnew = np.zeros(xy.shape)\n",
    "    ptsnew[:,0] = xy[:,0]*np.cos(xy[:,1])\n",
    "    ptsnew[:,1] = xy[:,0]*np.sin(xy[:,1])\n",
    "    return ptsnew\n",
    "#print(Cart_to_Polar(np.array([[-1,0]])))\n",
    "#np.array([[1,1,1]]).shape\n",
    "\n",
    "def Ellip_proj_mag(baR_mag,local_theta): # calculates the projected baR ratio\n",
    "    import numpy as np\n",
    "    #arctan2 takes (y,x)\n",
    "    temp = np.arctan(baR_mag/np.tan(local_theta))\n",
    "    #baR_mag/(np.sin(local_theta)*np.cos(temp)+baR_mag*np.cos(local_theta)*np.sin(temp))\n",
    "    return baR_mag/(np.sin(local_theta)*np.cos(temp)+baR_mag*np.cos(local_theta)*np.sin(temp))\n",
    "\n",
    "def Cart_to_eps(sat_state): \n",
    "    #input is a length 4 np.array, in cartesian coord, [[sat_location_x, sat_location_y,sat_orient_x,sat_orient_y]], output eps+\n",
    "    import numpy as np\n",
    "    sat_state_loc = sat_state[:,0:2] #[sat_location_x, sat_location_y]\n",
    "    sat_state_orient = sat_state[:,2:4] #[sat_orient_x,sat_orient_y]\n",
    "    temp_posangle = Cart_to_Polar(sat_state_loc)[:,1][0]\n",
    "    [[temp_mag,temp_satangle]] = Cart_to_Polar(sat_state_orient)\n",
    "    #temp_mag = Cart_to_Polar(sat_state_orient)[:,0][0]\n",
    "    #temp_satangle = Cart_to_Polar(sat_state_orient)[:,1][0]\n",
    "    return (1-temp_mag**2)/(1+temp_mag**2)*np.cos(2*(temp_satangle-temp_posangle))\n",
    "\n",
    "def rad_to_deg(rad):\n",
    "    import numpy as np\n",
    "    return (rad/np.pi)*180"
   ]
  },
  {
   "cell_type": "code",
   "execution_count": 2,
   "metadata": {
    "jupyter": {
     "source_hidden": true
    }
   },
   "outputs": [
    {
     "name": "stdout",
     "output_type": "stream",
     "text": [
      "Overwriting execution_func.py\n"
     ]
    }
   ],
   "source": [
    "%%writefile execution_func.py\n",
    "def write_file_at_path(path_output, decorated_name, object_name,iteration_tracker):\n",
    "    import numpy as np\n",
    "    import os\n",
    "    #write 'numpy'object_name to file using interation_number as name in path_output/decorated_name/\n",
    "    fullpath = os.path.join(path_output, decorated_name)\n",
    "    if not os.path.exists(fullpath):\n",
    "        os.makedirs(fullpath)\n",
    "        print('made path', fullpath)\n",
    "    filename = str(iteration_tracker)\n",
    "    filename = os.path.join(fullpath, filename)\n",
    "    file = open(filename, \"wb\")\n",
    "    np.save(file, object_name)\n",
    "    file.close"
   ]
  },
  {
   "cell_type": "raw",
   "metadata": {},
   "source": [
    "Run from this block below"
   ]
  },
  {
   "cell_type": "code",
   "execution_count": 9,
   "metadata": {},
   "outputs": [
    {
     "name": "stdout",
     "output_type": "stream",
     "text": [
      "Overwriting ia_main.py\n"
     ]
    }
   ],
   "source": [
    "%%writefile ia_main.py\n",
    "from mpi4py import MPI\n",
    "comm = MPI.COMM_WORLD\n",
    "rank = comm.rank\n",
    "size = comm.size\n",
    "import sys\n",
    "import os\n",
    "import numpy as np\n",
    "import matplotlib as mpl\n",
    "import matplotlib.pyplot as plt\n",
    "#local modules, no name conflicts\n",
    "from ia_geometry_func import *\n",
    "from execution_func import *\n",
    "\n",
    "###############################################################################################################\n",
    "########                     This block contains Setups for this simulation                            ########\n",
    "########                     Scroll to the end of file to code executions                              ########\n",
    "########                     Check for Rank-Dependence before running                                  ########\n",
    "###############################################################################################################\n",
    "\n",
    "def baR_func(x,y,z,global_r,global_theta,global_phi): \n",
    "    return baR_0\n",
    "\n",
    "def theta_func(x,y,z,global_r,global_theta,global_phi,std): \n",
    "    #### GAUSSIAN NOISE\n",
    "    return global_theta+np.random.normal(0,std) #center, std = pi/4 = 0.7853981633974483\n",
    "\n",
    "def phi_func(x,y,z,global_r,global_theta,global_phi,std): \n",
    "    #### GAUSSIAN NOISE\n",
    "    return global_phi+np.random.normal(0,std)\n",
    "\n",
    "def density_func(x,y,z,global_r,global_theta,global_phi): #NEED TO BE NORMALIZED\n",
    "    # this gives the Fraction NUMBER of gals expected in a box of size dV, approximated at (x,y,z)\n",
    "    # should normalize to 1, but given the finiteness of n,  this only holds as n gets large\n",
    "    if (x**2+y**2+z**2 > R_cut**2): return 0\n",
    "    else: return dV/(4*np.pi/3)\n",
    "\n",
    "def set_condition(n,R_cut,baR_0):\n",
    "    global dV \n",
    "    dV = (2*R_cut)**3/n**3\n",
    "\n",
    "###############################################################################################################\n",
    "########                     This block contains the core functions for this simulation                ########\n",
    "########                               Check for Rank-Dependence before running                        ########\n",
    "###############################################################################################################\n",
    "\n",
    "def get_RA_data(save_2D,iteration_tracker,outputpath,n,R_cut,baR_0,phistd,thetastd): \n",
    "    #n=50 ~ 6.18 sec without getting All_Sat (best trial)\n",
    "    #n=100 ~  48.6 sec without getting All_Sat\n",
    "    #n=200 ~ 7-10 min\n",
    "\n",
    "    xs = np.linspace(- R_cut, R_cut, n)\n",
    "    ys = np.linspace(- R_cut, R_cut, n)\n",
    "    zs = np.linspace(- R_cut, R_cut, n)\n",
    "\n",
    "    #All_Sats=np.empty((0,7)) #[[x,y,z,xlocal,ylocal,zlocal,numberfraction]]\n",
    "    All_Sats_2D=np.empty((0,5))  #[[x,y,average_xlocal, average_ylocal,numberfraction]]\n",
    "    All_Sats_2D_eps=np.empty((0,4))  #[[x,y,eps+,numberfraction]]\n",
    "    for x in xs:\n",
    "        #print(x)\n",
    "        for y in ys:\n",
    "            temp_baR_num = np.empty((0,3)) \n",
    "            # this stores the data point with the same x,y but different z coord, and store [[localx*num,localy*num,num(i.e. frac density)],...]\n",
    "            for z in zs:\n",
    "                [[global_r,global_theta,global_phi]] = Cart_to_Sph(np.array([[x,y,z]]))   #get sat's position in global sph coord\n",
    "\n",
    "                local_density = density_func(x,y,z,global_r,global_theta,global_phi)\n",
    "                local_baR = baR_func(x,y,z,global_r,global_theta,global_phi)\n",
    "                local_theta = theta_func(x,y,z,global_r,global_theta,global_phi,thetastd)\n",
    "                local_phi = phi_func(x,y,z,global_r,global_theta,global_phi,phistd)\n",
    "\n",
    "                local_baR_vector = np.array([[local_baR,local_theta,local_phi]]) #get sat's orientation in local sph coord\n",
    "                [[local_x,local_y,local_z]] = Sph_to_Cart(local_baR_vector) #get sat's orientation in local Cart coord\n",
    "\n",
    "                #build 3D catalogue\n",
    "    #            All_Sats = np.append(All_Sats,[[x, #sat's location\n",
    "    #                                            y,  #sat's location\n",
    "    #                                            z,  #sat's location\n",
    "    #                                            local_x,  #sat's baR mag and orient\n",
    "    #                                            local_y,  #sat's baR mag and orient\n",
    "    #                                            local_z,  #sat's baR mag and orient\n",
    "    #                                            local_density #approximated frac of sats in dV around (x,y,z)\n",
    "    #                                            ]],axis=0)\n",
    "\n",
    "                #build 2D projected catalogue with average baR\n",
    "                proj_mag = Ellip_proj_mag(local_baR,local_theta)    #calculate the projected b/a Ratio first\n",
    "                [[proj_local_x, proj_local_y]]=Polar_to_Cart(np.array([[proj_mag,local_phi]]))    #convert the projected vector to cartesian\n",
    "\n",
    "                temp_baR_num = np.append(temp_baR_num,[[proj_local_x*local_density,proj_local_y*local_density,local_density]],axis=0)\n",
    "\n",
    "            #compute the average baR vector\n",
    "            sum_temp = np.sum(temp_baR_num,axis=0)\n",
    "\n",
    "            if (np.abs(sum_temp[2])) >= 10.**(-13):# if the density is 0, can just set the mean vector to 0, this also avoids 0 division\n",
    "                [mean_temp_x,mean_temp_y] = sum_temp[0:2]/sum_temp[2]\n",
    "                All_Sats_2D = np.append(All_Sats_2D,[[x,y,mean_temp_x,mean_temp_y,sum_temp[2]]],axis=0)\n",
    "\n",
    "                #from the average baR vector, compute the expected eps+ value at (x,y)\n",
    "                All_Sats_2D_eps = np.append(All_Sats_2D_eps,np.array([[\n",
    "                                                                        x,\n",
    "                                                                        y,\n",
    "                                                                        Cart_to_eps(np.array([[x,y,mean_temp_x,mean_temp_y]])),\n",
    "                                                                        sum_temp[2]\n",
    "                                                                        ]]),axis=0)\n",
    "    #Now perform radial averaging and get the gamma+ function\n",
    "    n_radial = int(n)\n",
    "    rs = np.linspace(0, R_cut, n_radial)\n",
    "    gamma_plus = np.zeros(rs.shape)\n",
    "    for i in range(len(rs)):\n",
    "        count=0\n",
    "        for elmt in All_Sats_2D_eps:\n",
    "            # if in the radial interval of 0 and 0.001(lets say e.g.).., and so on\n",
    "            if (np.sqrt(elmt[0]**2+elmt[1]**2) >= rs[i] and np.sqrt(elmt[0]**2+elmt[1]**2) < rs[i]+R_cut/(n_radial-1)):\n",
    "                count += elmt[3]\n",
    "                gamma_plus[i] += elmt[2]*elmt[3]\n",
    "        if (count == 0):\n",
    "            #print(count)\n",
    "            #print(gamma_plus[i])\n",
    "            gamma_plus[i]=0\n",
    "        else: gamma_plus[i]=gamma_plus[i]/count\n",
    "    \n",
    "    if save_2D == True:\n",
    "        write_file_at_path(outputpath, 'All_Sats_2D smr=%1.3f'%smr, All_Sats_2D,iteration_tracker)\n",
    "        write_file_at_path(outputpath, 'All_Sats_2D_eps smr=%1.3f'%smr, All_Sats_2D_eps,iteration_tracker)\n",
    "        write_file_at_path(outputpath, 'Gamma_plus smr=%1.3f'%smr, gamma_plus,iteration_tracker)\n",
    "        print(\"finished saving 2D, 2D_EPS, and Gamma_plus\")\n",
    "\n",
    "def Plot_Gamma_Plus(n,smoothing_len,baR_0, outputpath,searchpath,imagename):\n",
    "    #smoothing length (multiples of 2): plotting one datapoint for every smoothing length worth of eps data (taking arithmetic average ), >=2\n",
    "    #output path is where the figure folder is saved\n",
    "    #searchpath is where all the gamma_plus data are stored\n",
    "    rs = np.linspace(0, R_cut, int(n/smoothing_len))\n",
    "        \n",
    "    #read all the file names in the searchpath folder\n",
    "    filenames = [f for f in os.listdir(searchpath) if os.path.isfile(os.path.join(searchpath, f))]\n",
    "    print('file names discovered',filenames)\n",
    "    \n",
    "    fig= plt.figure(figsize=(9,6))\n",
    "    #Plotting gamma curves\n",
    "    for filename in filenames:\n",
    "        filepath = os.path.join(searchpath, filename)\n",
    "        file = open(filepath, \"rb\")\n",
    "        gammapls_temp = np.load(file)\n",
    "        file.close\n",
    "        \n",
    "        smoothed_gamma = [sum(gammapls_temp[i:i+smoothing_len])/smoothing_len for i in range(0,len(gammapls_temp),smoothing_len)]\n",
    "        #print(smoothed_gamma)\n",
    "        #print(gammapls_temp)\n",
    "        #print(len(smoothed_gamma))\n",
    "        plt.plot(rs,smoothed_gamma,label=filename)\n",
    "    \n",
    "    #Plotting reference curves\n",
    "    asymp = np.array([])\n",
    "    y_0 = np.zeros(rs.shape)\n",
    "    for r in rs:\n",
    "        asymp = np.append(asymp,(1-(baR_0)**2)/(1+(baR_0)**2))\n",
    "\n",
    "    plt.plot(rs,y_0,label='y=0')\n",
    "    plt.plot(rs,asymp,\"--\",label=(\n",
    "        \"asymptotic value %1.3f, b/a_0 = %1.2f\" %(\n",
    "            float((1-(baR_0)**2)/(1+(baR_0)**2)), baR_0)))\n",
    "\n",
    "    plt.xlabel('distance')\n",
    "    plt.ylabel('gamma +')\n",
    "    plt.title('gamma + vs. normalized distance from cluster center')\n",
    "    plt.xlim(0,0.9)\n",
    "    plt.ylim(-1,1)\n",
    "    plt.legend(bbox_to_anchor=(1, 1), loc='upper left', ncol=1)\n",
    "    #plt.show()\n",
    "    imagesavepath = os.path.join(outputpath, 'figures')\n",
    "    if not os.path.exists(imagesavepath):\n",
    "        os.makedirs(imagesavepath)\n",
    "    fig.savefig(os.path.join(imagesavepath, imagename), bbox_inches = 'tight')\n",
    "\n",
    "###############################################################################################################\n",
    "########                     Execution code happens below                                              ########\n",
    "###############################################################################################################\n",
    "\n",
    "n=50\n",
    "R_cut = 1.0\n",
    "baR_0 = 0.2\n",
    "set_condition(n,R_cut,baR_0)\n",
    "\n",
    "sim_step = 6\n",
    "\n",
    "if rank == 0:\n",
    "    for index in range(sim_step):\n",
    "        smr=rank*np.pi/8\n",
    "        print('rank ',rank,':  on task ',index+1)\n",
    "        #smr=(np.pi)/8*index\n",
    "        #print(smr)\n",
    "        outputpath = '/home/azhou/IA-Sim-AZhou00/IA_Numeric_Output/n%i-baR_0%1.1f-phiSTD%1.2f-thetaSTD%1.2f' %(n,baR_0,rad_to_deg(smr),rad_to_deg(smr))\n",
    "        get_RA_data(True,index,outputpath,n,R_cut,baR_0,smr,smr)\n",
    "        print('rank ',rank,': ',index+1,' out of ',sim_step,' done')\n",
    "    \n",
    "    searchpath = os.path.join(outputpath,'Gamma_plus smr=%1.3f'%smr)\n",
    "    Plot_Gamma_Plus(n,2,baR_0,outputpath,searchpath,'Gamma_Plus_baR=2e-1_smearing,smoothing=2')\n",
    "\n",
    "if rank == 1:\n",
    "    smr=rank*np.pi/8\n",
    "    for index in range(sim_step):\n",
    "        print('rank ',rank,':  on task ',index+1)\n",
    "        #smr=(np.pi)/8*index\n",
    "        #print(smr)\n",
    "        outputpath = '/home/azhou/IA-Sim-AZhou00/IA_Numeric_Output/n%i-baR_0%1.1f-phiSTD%1.2f-thetaSTD%1.2f' %(n,baR_0,rad_to_deg(smr),rad_to_deg(smr))\n",
    "        get_RA_data(True,index,outputpath,n,R_cut,baR_0,smr,smr)\n",
    "        print('rank ',rank,': ',index+1,' out of ',sim_step,' done')\n",
    "    \n",
    "    searchpath = os.path.join(outputpath,'Gamma_plus smr=%1.3f'%smr)\n",
    "    Plot_Gamma_Plus(n,2,baR_0,outputpath,searchpath,'Gamma_Plus_baR=2e-1_smearing,smoothing=2')\n",
    "\n",
    "if rank == 2:\n",
    "    smr=rank*np.pi/8\n",
    "    for index in range(sim_step):\n",
    "        print('rank ',rank,':  on task ',index+1)\n",
    "        #smr=(np.pi)/8*index\n",
    "        #print(smr)\n",
    "        outputpath = '/home/azhou/IA-Sim-AZhou00/IA_Numeric_Output/n%i-baR_0%1.1f-phiSTD%1.2f-thetaSTD%1.2f' %(n,baR_0,rad_to_deg(smr),rad_to_deg(smr))\n",
    "        get_RA_data(True,index,outputpath,n,R_cut,baR_0,smr,smr)\n",
    "        print('rank ',rank,': ',index+1,' out of ',sim_step,' done')\n",
    "    \n",
    "    searchpath = os.path.join(outputpath,'Gamma_plus smr=%1.3f'%smr)\n",
    "    Plot_Gamma_Plus(n,2,baR_0,outputpath,searchpath,'Gamma_Plus_baR=2e-1_smearing,smoothing=2')\n"
   ]
  },
  {
   "cell_type": "markdown",
   "metadata": {},
   "source": [
    "### Setting Functions"
   ]
  },
  {
   "cell_type": "raw",
   "metadata": {},
   "source": [
    "##To run the code, you need to specify:\n",
    "n\n",
    "R_cut\n",
    "baR_0\n",
    "set_condition(n,R_cut,baR_0)\n",
    "baR_func\n",
    "theta_func\n",
    "phi_func\n",
    "density_func\n",
    "outputpath = '/home/azhou/IA-Sim-AZhou00/IA_Numeric_Output/n%i-baR_0%1.1f-phiSTD%1.2f-thetaSTD%1.2f' %(n,baR_0,rad_to_deg(phiSTD),rad_to_deg(thetaSTD))\n"
   ]
  },
  {
   "cell_type": "code",
   "execution_count": 15,
   "metadata": {},
   "outputs": [
    {
     "name": "stdout",
     "output_type": "stream",
     "text": [
      "file names discovered ['0', '1', '2']\n"
     ]
    },
    {
     "data": {
      "image/png": "[encoded data removed]",
      "text/plain": [
       "<Figure size 648x432 with 1 Axes>"
      ]
     },
     "metadata": {
      "needs_background": "light"
     },
     "output_type": "display_data"
    }
   ],
   "source": [
    "#for index in range(sim_step):\n",
    "#    smr=0\n",
    "#    #smr=(np.pi)/8*index\n",
    "#    #print(smr)\n",
    "outputpath = '/home/azhou/IA-Sim-AZhou00/IA_Numeric_Output/n%i-baR_0%1.1f-phiSTD%1.2f-thetaSTD%1.2f' %(n,baR_0,rad_to_deg(smr),rad_to_deg(smr))\n",
    "searchpath = os.path.join(outputpath,'Gamma_plus smr=%1.3f'%smr)\n",
    "Plot_Gamma_Plus(n,5,baR_0,outputpath,searchpath,'Gamma_Plus_baR=2e-1_smearing,smoothing=5')"
   ]
  },
  {
   "cell_type": "code",
   "execution_count": 1,
   "metadata": {},
   "outputs": [],
   "source": [
    "def test():\n",
    "    return baR_0"
   ]
  },
  {
   "cell_type": "code",
   "execution_count": 2,
   "metadata": {},
   "outputs": [
    {
     "ename": "NameError",
     "evalue": "name 'baR_0' is not defined",
     "output_type": "error",
     "traceback": [
      "\u001b[0;31m---------------------------------------------------------------------------\u001b[0m",
      "\u001b[0;31mNameError\u001b[0m                                 Traceback (most recent call last)",
      "\u001b[0;32m<ipython-input-2-fbd55f77ab7c>\u001b[0m in \u001b[0;36m<module>\u001b[0;34m\u001b[0m\n\u001b[0;32m----> 1\u001b[0;31m \u001b[0mtest\u001b[0m\u001b[0;34m(\u001b[0m\u001b[0;34m)\u001b[0m\u001b[0;34m\u001b[0m\u001b[0;34m\u001b[0m\u001b[0m\n\u001b[0m",
      "\u001b[0;32m<ipython-input-1-cb2b519ac278>\u001b[0m in \u001b[0;36mtest\u001b[0;34m()\u001b[0m\n\u001b[1;32m      1\u001b[0m \u001b[0;32mdef\u001b[0m \u001b[0mtest\u001b[0m\u001b[0;34m(\u001b[0m\u001b[0;34m)\u001b[0m\u001b[0;34m:\u001b[0m\u001b[0;34m\u001b[0m\u001b[0;34m\u001b[0m\u001b[0m\n\u001b[0;32m----> 2\u001b[0;31m     \u001b[0;32mreturn\u001b[0m \u001b[0mbaR_0\u001b[0m\u001b[0;34m\u001b[0m\u001b[0;34m\u001b[0m\u001b[0m\n\u001b[0m",
      "\u001b[0;31mNameError\u001b[0m: name 'baR_0' is not defined"
     ]
    }
   ],
   "source": [
    "test()"
   ]
  },
  {
   "cell_type": "code",
   "execution_count": 4,
   "metadata": {},
   "outputs": [
    {
     "name": "stdout",
     "output_type": "stream",
     "text": [
      "2\n",
      "3\n"
     ]
    }
   ],
   "source": [
    "baR_0 = 2\n",
    "print(test())\n",
    "baR_0 = 3\n",
    "print(test())"
   ]
  },
  {
   "cell_type": "code",
   "execution_count": null,
   "metadata": {},
   "outputs": [],
   "source": []
  }
 ],
 "metadata": {
  "kernelspec": {
   "display_name": "Python 3",
   "language": "python",
   "name": "python3"
  },
  "language_info": {
   "codemirror_mode": {
    "name": "ipython",
    "version": 3
   },
   "file_extension": ".py",
   "mimetype": "text/x-python",
   "name": "python",
   "nbconvert_exporter": "python",
   "pygments_lexer": "ipython3",
   "version": "3.7.6"
  }
 },
 "nbformat": 4,
 "nbformat_minor": 4
}
