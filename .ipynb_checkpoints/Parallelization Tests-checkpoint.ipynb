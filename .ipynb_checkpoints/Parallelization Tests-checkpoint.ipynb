{
 "cells": [
  {
   "cell_type": "code",
   "execution_count": 5,
   "metadata": {},
   "outputs": [
    {
     "name": "stdout",
     "output_type": "stream",
     "text": [
      "Overwriting prl_trial.py\n"
     ]
    }
   ],
   "source": [
    "%%writefile prl_trial.py\n",
    "from mpi4py import MPI\n",
    "import numpy as np\n",
    "import os\n",
    "comm = MPI.COMM_WORLD\n",
    "size = comm.Get_size()\n",
    "rank = comm.Get_rank()\n",
    "\n",
    "print('this is rank', rank)\n",
    "print(os.path)\n",
    "filename_2D = os.path.join('/home/azhou/IA-Sim-AZhou00/IA_Numeric_Output/tests', 'test_array%i'%i)\n",
    "file = open(filename_2D, \"wb\")\n",
    "        np.save(file, All_Sats_2D)\n",
    "        file.close"
   ]
  },
  {
   "cell_type": "code",
   "execution_count": 6,
   "metadata": {},
   "outputs": [
    {
     "name": "stdout",
     "output_type": "stream",
     "text": [
      "<module 'posixpath' from '/home/azhou/anaconda3/lib/python3.7/posixpath.py'>\n"
     ]
    }
   ],
   "source": []
  },
  {
   "cell_type": "code",
   "execution_count": null,
   "metadata": {},
   "outputs": [],
   "source": []
  }
 ],
 "metadata": {
  "kernelspec": {
   "display_name": "Python 3",
   "language": "python",
   "name": "python3"
  },
  "language_info": {
   "codemirror_mode": {
    "name": "ipython",
    "version": 3
   },
   "file_extension": ".py",
   "mimetype": "text/x-python",
   "name": "python",
   "nbconvert_exporter": "python",
   "pygments_lexer": "ipython3",
   "version": "3.7.6"
  }
 },
 "nbformat": 4,
 "nbformat_minor": 4
}
