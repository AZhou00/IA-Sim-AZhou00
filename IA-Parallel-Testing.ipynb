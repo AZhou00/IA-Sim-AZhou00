{
 "cells": [
  {
   "cell_type": "code",
   "execution_count": 7,
   "metadata": {},
   "outputs": [
    {
     "name": "stdout",
     "output_type": "stream",
     "text": [
      "Overwriting prl_trial.py\n"
     ]
    }
   ],
   "source": [
    "%%writefile prl_trial.py\n",
    "from mpi4py import MPI\n",
    "import numpy as np\n",
    "import os\n",
    "comm = MPI.COMM_WORLD\n",
    "size = comm.Get_size()\n",
    "rank = comm.Get_rank()\n",
    "\n",
    "print('this is rank', rank)\n",
    "print(os.path)\n",
    "if not os.path.exists('/home/azhou/IA-Sim-AZhou00/IA_Numeric_Output/tests'):\n",
    "    os.makedirs('/home/azhou/IA-Sim-AZhou00/IA_Numeric_Output/tests')\n",
    "filename = os.path.join('/home/azhou/IA-Sim-AZhou00/IA_Numeric_Output/tests', 'test_array%i'%rank)\n",
    "file = open(filename, \"wb\")\n",
    "np.save(file, np.array([rank,rank*2,rank*3]))\n",
    "file.close\n"
   ]
  },
  {
   "cell_type": "code",
   "execution_count": 6,
   "metadata": {},
   "outputs": [
    {
     "name": "stdout",
     "output_type": "stream",
     "text": [
      "<module 'posixpath' from '/home/azhou/anaconda3/lib/python3.7/posixpath.py'>\n"
     ]
    }
   ],
   "source": []
  },
  {
   "cell_type": "code",
   "execution_count": 12,
   "metadata": {},
   "outputs": [
    {
     "name": "stdout",
     "output_type": "stream",
     "text": [
      "[0.  0.1 0.2 0.3 0.4 0.5 0.6 0.7 0.8 0.9 1. ]\n",
      "[0.05 0.15 0.25 0.35 0.45 0.55 0.65 0.75 0.85 0.95]\n"
     ]
    },
    {
     "data": {
      "text/plain": [
       "array([0., 0., 0., 0., 0., 0., 0., 0., 0., 0., 0.])"
      ]
     },
     "execution_count": 12,
     "metadata": {},
     "output_type": "execute_result"
    }
   ],
   "source": [
    "import numpy as np\n",
    "rs=np.linspace(0, 1, 11)\n",
    "print(rs)\n",
    "rs = rs[0:-1]+(rs[0]+rs[1])/2\n",
    "print(rs)\n",
    "np.zeros(11)"
   ]
  },
  {
   "cell_type": "code",
   "execution_count": 8,
   "metadata": {},
   "outputs": [
    {
     "name": "stdout",
     "output_type": "stream",
     "text": [
      "0.0\n",
      "0.1111111111111111\n",
      "0.2222222222222222\n",
      "0.3333333333333333\n",
      "0.4444444444444444\n",
      "0.5555555555555556\n",
      "0.6666666666666666\n",
      "0.7777777777777777\n",
      "0.8888888888888888\n",
      "1.0\n",
      "0.1111111111111111\n"
     ]
    }
   ],
   "source": [
    "for i in range(len(rs)):\n",
    "    print(rs[i])\n",
    "print(1/(10-1))"
   ]
  },
  {
   "cell_type": "code",
   "execution_count": null,
   "metadata": {},
   "outputs": [],
   "source": []
  }
 ],
 "metadata": {
  "kernelspec": {
   "display_name": "Python 3",
   "language": "python",
   "name": "python3"
  },
  "language_info": {
   "codemirror_mode": {
    "name": "ipython",
    "version": 3
   },
   "file_extension": ".py",
   "mimetype": "text/x-python",
   "name": "python",
   "nbconvert_exporter": "python",
   "pygments_lexer": "ipython3",
   "version": "3.7.6"
  }
 },
 "nbformat": 4,
 "nbformat_minor": 4
}
