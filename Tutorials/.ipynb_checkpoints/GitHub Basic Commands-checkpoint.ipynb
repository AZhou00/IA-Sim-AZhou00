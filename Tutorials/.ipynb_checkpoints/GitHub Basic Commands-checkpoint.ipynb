{
 "cells": [
  {
   "cell_type": "raw",
   "metadata": {},
   "source": [
    "quick notes: \n",
    "\n",
    "git add . \n",
    "git commit -m \"comments\"\n",
    "git push origin master"
   ]
  },
  {
   "cell_type": "markdown",
   "metadata": {},
   "source": [
    "### Quick guide on how to use github on linux (tested on Ubuntu 18.04)"
   ]
  },
  {
   "cell_type": "markdown",
   "metadata": {},
   "source": [
    "If it is not on your system, install it  via the commands below.\n",
    "First navigate to your home folder, then "
   ]
  },
  {
   "cell_type": "markdown",
   "metadata": {},
   "source": [
    "sudo apt-get install git\n",
    "(or yum it: yum install git -y)\n",
    "\n",
    "git config --global user.name \"your_user_name_here\" \n",
    "git config --global user.email \"email\" \n",
    "(keep the quotation marks, these should be the same as your github account's setting)"
   ]
  },
  {
   "cell_type": "markdown",
   "metadata": {},
   "source": [
    "### Creating Repository locally\n",
    "git init test1 (this creates a test local repository)\n",
    "cd test1\n",
    "\n",
    "now, write some files into this repository folder.\n",
    "git add \"file_name\" (this add the file to your repository)\n",
    "git add . (or use this. this adds everything now in the repository)\n",
    "\n",
    "git commit -m \"comments\" (this commits the local repository)"
   ]
  },
  {
   "cell_type": "markdown",
   "metadata": {},
   "source": [
    "### Linking to the remote repository\n",
    "Now create a NEW remote repository through your github account on the browser. you should then get instructions on how to push your local one to the remote one. Or you can follow the instructions below:"
   ]
  },
  {
   "cell_type": "markdown",
   "metadata": {},
   "source": [
    "git remote add origin https://github.com/your_user_name_here/test1.git\n",
    "##### Notice: use your local repository folder name you created above! and use your account user name!\n",
    "\n",
    "git push origin master\n",
    "\n",
    "enters your credentials on github"
   ]
  },
  {
   "cell_type": "markdown",
   "metadata": {},
   "source": [
    "#### P.S. if any of the step did not go according to plan. Just \n",
    "\n",
    "rm -rf your_repository_folder_name\n",
    "\n",
    "#### to delete the test repository and start again"
   ]
  }
 ],
 "metadata": {
  "kernelspec": {
   "display_name": "Python 3",
   "language": "python",
   "name": "python3"
  },
  "language_info": {
   "codemirror_mode": {
    "name": "ipython",
    "version": 3
   },
   "file_extension": ".py",
   "mimetype": "text/x-python",
   "name": "python",
   "nbconvert_exporter": "python",
   "pygments_lexer": "ipython3",
   "version": "3.7.6"
  }
 },
 "nbformat": 4,
 "nbformat_minor": 4
}
