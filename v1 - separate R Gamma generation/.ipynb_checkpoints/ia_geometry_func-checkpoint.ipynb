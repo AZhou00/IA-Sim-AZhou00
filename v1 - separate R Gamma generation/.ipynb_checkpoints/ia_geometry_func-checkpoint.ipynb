{
 "cells": [
  {
   "cell_type": "code",
   "execution_count": 1,
   "metadata": {},
   "outputs": [
    {
     "name": "stdout",
     "output_type": "stream",
     "text": [
      "Overwriting ia_geometry_func.py\n"
     ]
    }
   ],
   "source": [
    "%%writefile ia_geometry_func.py\n",
    "def Cart_to_Sph(xyz): #input np array [[x,y,z]], output[[r,theta,phi]]\n",
    "    import numpy as np\n",
    "    ptsnew = np.zeros(xyz.shape)\n",
    "    xy = xyz[:,0]**2 + xyz[:,1]**2\n",
    "    ptsnew[:,0] = np.sqrt(xy + xyz[:,2]**2)\n",
    "    ptsnew[:,1] = np.arctan2(np.sqrt(xy), xyz[:,2]) # for elevation angle defined from Z-axis down\n",
    "    #ptsnew[:,4] = np.arctan2(xyz[:,2], np.sqrt(xy)) # for elevation angle defined from XY-plane up\n",
    "    ptsnew[:,2] = np.arctan2(xyz[:,1], xyz[:,0])\n",
    "    return ptsnew\n",
    "#pts = np.array([[1,1,1]])\n",
    "#print(Cart_to_Sph(pts))\n",
    "#[[r,theta,phi]] = Cart_to_Sph(np.array([[1,1,1]]))\n",
    "#print(r)#print(theta)#print(phi)\n",
    "\n",
    "def RZ_to_Theta(xyz): #input np array [[r,z]], output theta\n",
    "    import numpy as np\n",
    "    return np.arctan2(xyz[:,0], xyz[:,1])[0] # for elevation angle defined from Z-axis down\n",
    "\n",
    "def Cart_to_Polar(xy): #input np array [[x,y]], output[[r,phi]]\n",
    "    import numpy as np\n",
    "    ptsnew = np.zeros(xy.shape)\n",
    "#    ptsnew = np.zeros((1,2))\n",
    "    ptsnew[:,0] = np.sqrt(xy[:,0]**2+xy[:,1]**2)\n",
    "    ptsnew[:,1] = np.arctan2(xy[:,1], xy[:,0]) #for elevation angle defined from Z-axis down\n",
    "    return ptsnew\n",
    "\n",
    "def Sph_to_Cart(xyz): #input np array [[r,theta,phi]], output[[x,y,z]]\n",
    "    import numpy as np\n",
    "    ptsnew = np.zeros(xyz.shape)\n",
    "#    ptsnew = np.zeros((1,3))\n",
    "    ptsnew[:,0] = xyz[:,0]*np.sin(xyz[:,1])*np.cos(xyz[:,2])\n",
    "    ptsnew[:,1] = xyz[:,0]*np.sin(xyz[:,1])*np.sin(xyz[:,2])\n",
    "    ptsnew[:,2] = xyz[:,0]*np.cos(xyz[:,1])\n",
    "    return ptsnew\n",
    "#Cartesian_np(np.array([[1.73205081, 0.95531662, 0.78539816]]))\n",
    "#pts = np.array([[1,1,1]])\n",
    "#Cartesian_np(Cart_to_Sph(pts))\n",
    "\n",
    "def Polar_to_Cart(xy): #input np array [[r,phi]], output[[x,y]]\n",
    "    import numpy as np\n",
    "#    ptsnew = np.zeros((1,2))\n",
    "    ptsnew = np.zeros(xy.shape)\n",
    "    ptsnew[:,0] = xy[:,0]*np.cos(xy[:,1])\n",
    "    ptsnew[:,1] = xy[:,0]*np.sin(xy[:,1])\n",
    "    return ptsnew\n",
    "#print(Cart_to_Polar(np.array([[-1,0]])))\n",
    "#np.array([[1,1,1]]).shape\n",
    "\n",
    "def Ellip_proj_mag(baR_mag,local_theta): # calculates the projected baR ratio\n",
    "    import numpy as np\n",
    "    #arctan2 takes (y,x)\n",
    "    temp = np.arctan(baR_mag/np.tan(local_theta))\n",
    "    #baR_mag/(np.sin(local_theta)*np.cos(temp)+baR_mag*np.cos(local_theta)*np.sin(temp))\n",
    "    return baR_mag/(np.sin(local_theta)*np.cos(temp)+baR_mag*np.cos(local_theta)*np.sin(temp))\n",
    "\n",
    "def Cart_to_eps(sat_state): \n",
    "    #input is a length 4 np.array, in cartesian coord, [[sat_location_x, sat_location_y,sat_orient_x,sat_orient_y]], output eps+\n",
    "    import numpy as np\n",
    "    sat_state_loc = sat_state[:,0:2] #[sat_location_x, sat_location_y]\n",
    "    sat_state_orient = sat_state[:,2:4] #[sat_orient_x,sat_orient_y]\n",
    "    temp_posangle = Cart_to_Polar(sat_state_loc)[:,1][0]\n",
    "    [[temp_mag,temp_satangle]] = Cart_to_Polar(sat_state_orient)\n",
    "    #temp_mag = Cart_to_Polar(sat_state_orient)[:,0][0]\n",
    "    #temp_satangle = Cart_to_Polar(sat_state_orient)[:,1][0]\n",
    "    return (1-temp_mag**2)/(1+temp_mag**2)*np.cos(2*(temp_satangle-temp_posangle))\n",
    "\n",
    "def Polar_to_eps(sat_location_phi,sat_orient_r,sat_orient_phi): \n",
    "    #input is a length !!!3!!! np.array[sat_location_phi,sat_orient_r,sat_orient_phi], output eps+\n",
    "    import numpy as np\n",
    "    return (1-sat_orient_r**2)/(1+sat_orient_r**2)*np.cos(2*(sat_location_phi-sat_orient_phi))\n",
    "\n",
    "def rad_to_deg(rad):\n",
    "    import numpy as np\n",
    "    return (rad/np.pi)*180"
   ]
  },
  {
   "cell_type": "code",
   "execution_count": null,
   "metadata": {},
   "outputs": [],
   "source": []
  }
 ],
 "metadata": {
  "kernelspec": {
   "display_name": "Python 3",
   "language": "python",
   "name": "python3"
  },
  "language_info": {
   "codemirror_mode": {
    "name": "ipython",
    "version": 3
   },
   "file_extension": ".py",
   "mimetype": "text/x-python",
   "name": "python",
   "nbconvert_exporter": "python",
   "pygments_lexer": "ipython3",
   "version": "3.7.6"
  }
 },
 "nbformat": 4,
 "nbformat_minor": 4
}
